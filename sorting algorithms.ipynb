{
 "cells": [
  {
   "cell_type": "code",
   "execution_count": 1,
   "id": "c9213a9f",
   "metadata": {},
   "outputs": [],
   "source": [
    "import random\n",
    "in_list=list(range(100000))\n",
    "out_list=list(range(100000))\n",
    "random.shuffle(in_list)\n",
    "test8={\n",
    "    'input':{\n",
    "        'nums':in_list\n",
    "    },\n",
    "    'output':out_list\n",
    "}"
   ]
  },
  {
   "cell_type": "code",
   "execution_count": 2,
   "id": "3e91b7e6",
   "metadata": {},
   "outputs": [],
   "source": [
    "def bubble_sort(nums):\n",
    "    #create a copy of the list to avoid changing it.\n",
    "    nums=list(nums)\n",
    "    for j in range(len(nums)-1):\n",
    "    #repeatthe process n-1 times\n",
    "        for i in range(len(nums)-1):\n",
    "             if nums[i]>nums[i+1]:\n",
    "            #swap the two elements\n",
    "                 nums[i],nums[i+1]=nums[i+1],nums[i]\n",
    "    #return the sorted list\n",
    "    return nums"
   ]
  },
  {
   "cell_type": "code",
   "execution_count": 3,
   "id": "5e40727f",
   "metadata": {},
   "outputs": [
    {
     "name": "stdout",
     "output_type": "stream",
     "text": [
      "match: True\n"
     ]
    }
   ],
   "source": [
    "nums8,output8=test8['input']['nums'],test8['output']\n",
    "#print('input',nums8)\n",
    "#print('expected output',output8)\n",
    "result8=bubble_sort(nums8)\n",
    "#print('Actual output',result8)\n",
    "print('match:',result8==output8)"
   ]
  },
  {
   "cell_type": "code",
   "execution_count": null,
   "id": "b7ced13a",
   "metadata": {},
   "outputs": [],
   "source": [
    "the inefficiency in bubble sort comes from the fact that we are shifting elements by at most one position at a time."
   ]
  },
  {
   "cell_type": "markdown",
   "id": "857d3d52",
   "metadata": {},
   "source": [
    "insertion sort.\n",
    "before we look at and explore more efficient sorting techniques, here's another simple sorting techniqus called insertion sort,wher we keep the initial portion of the array sorted and insert the remaining wlwmwnts one by one at the right position."
   ]
  },
  {
   "cell_type": "code",
   "execution_count": 4,
   "id": "a61a1e50",
   "metadata": {},
   "outputs": [],
   "source": [
    "def insertion_sort(nums):\n",
    "    nums=list(nums)\n",
    "    for i in range(len(nums)):\n",
    "        cur=nums.pop(i)\n",
    "        j=i-1\n",
    "        while j>=0 and nums[j]>cur:\n",
    "            j-=1\n",
    "        nums.insert(j+1,cur)\n",
    "    return nums"
   ]
  },
  {
   "cell_type": "markdown",
   "id": "53200d51",
   "metadata": {},
   "source": [
    "describe the algorithm in plain english.\n",
    "determine the time and space complexity of the insertion sort "
   ]
  },
  {
   "cell_type": "markdown",
   "id": "f293a22e",
   "metadata": {},
   "source": [
    "what was the first sorting algorithm to be usdin a machine for automated sorting.\n",
    "  most sorting algorithms were invented in the period betweem 1954 and 1985 and radix sort is the first algorithm which was ussed commercially in 1980 cencus machine which was invented by herman hollirith."
   ]
  },
  {
   "cell_type": "markdown",
   "id": "a267783f",
   "metadata": {},
   "source": [
    "applying hteh right technique to overcome the nefficiency.\n",
    "to perfrm the soorting more efficiently, we'll apply a strategy called divide and conquer, which has the follwing general steps.\n",
    "1. diviide the inputs into roughly two equal parts.\n",
    "2. recursively solve the problem individually for each of the two parts.\n",
    "3. combiine the results to solve the problem for the orriginal inputs.\n",
    "4. include terminating conditions for small indivisible parts.\n"
   ]
  },
  {
   "cell_type": "markdown",
   "id": "78eaed4f",
   "metadata": {},
   "source": [
    "merge sort\n",
    "following a visual representation of the divide an dconquer applied for sorting numbers,this algorithm is known as merge sort."
   ]
  },
  {
   "cell_type": "markdown",
   "id": "0bb2d694",
   "metadata": {},
   "source": [
    "if the input list is empty oor contains just one element, it is already sorted, return it.\n",
    "2. if not, divide the list to numbrs into roughly equal parts.\n",
    "3. sort each part recursively using the the marge sort algorithm. you'll get back two sorted lists.\n",
    "4. merge the two sorted lists to get single sorted list."
   ]
  },
  {
   "cell_type": "code",
   "execution_count": null,
   "id": "3071cb81",
   "metadata": {},
   "outputs": [],
   "source": [
    "#implement th solution and test it using example\n",
    "def merge_sort(nums):\n",
    "    #terminting condition(list of 0 or list of 1 elements)\n",
    "    if len(nums)<=1:\n",
    "        return nums\n",
    "    #get the midpoint\n",
    "    mid=len(nums)//2\n",
    "    #split the list into two haves.\n",
    "    left=nums[:mid]\n",
    "    right=nums[mid:]\n",
    "    #solve the problem for each half recursively\n",
    "    left_sorted,right_sorted=merge_sort(left),merge_sort(right)\n",
    "    #combine the results of the twoo halves\n",
    "    sorted_nums=merge(left_sorted,right_sorted)"
   ]
  },
  {
   "cell_type": "markdown",
   "id": "c7b3ff9d",
   "metadata": {},
   "source": [
    "to merge twwo sorted arrays we can repeatedly compare the two least elemnts of each array, and coppy over the smaller on e into the new array."
   ]
  },
  {
   "cell_type": "code",
   "execution_count": 7,
   "id": "4f30ea77",
   "metadata": {},
   "outputs": [],
   "source": [
    "def merge(nums1,nums2):\n",
    "    #list to store the results\n",
    "    merged=[]\n",
    "    #indices for iteration\n",
    "    i,j=0,0\n",
    "    #loop over the to lists.\n",
    "    while i<len(nums1)and j<len(nums2):\n",
    "        #include the smaller element in the result and move to the next element.\n",
    "        if nums1[i]<=nums2[j]:\n",
    "            merged.append(nums1[i])\n",
    "            i +=1\n",
    "        else:\n",
    "            merged.append(nums2[j])\n",
    "            j+=1\n",
    "            \n",
    "    #get the remaining parts\n",
    "    nums1_tail=nums1[i:]\n",
    "    nums2_tail=nums2[j:]\n",
    "    #return the final merged array\n",
    "    return merged+nums1_tail+nums2_tail\n",
    "        \n",
    "        "
   ]
  },
  {
   "cell_type": "code",
   "execution_count": 8,
   "id": "5ddd9ebb",
   "metadata": {},
   "outputs": [
    {
     "data": {
      "text/plain": [
       "[-8, 1, 4, 6, 7, 7, 13, 15, 87]"
      ]
     },
     "execution_count": 8,
     "metadata": {},
     "output_type": "execute_result"
    }
   ],
   "source": [
    "merge([1,4,7,13],[-8,6,7,15,87])"
   ]
  },
  {
   "cell_type": "markdown",
   "id": "53862c85",
   "metadata": {},
   "source": [
    "analyse the algorithms complexity and idntify inefficiencies if any.\n",
    "analysing the complexity of recursive algorithms can be tricky. It helps to track and follow the chains of rcursive calls. well add some print statements to our merge sort.and merge functions to  display the tree of recursive function calls."
   ]
  },
  {
   "cell_type": "markdown",
   "id": "c9674981",
   "metadata": {},
   "source": [
    "counting from top and starting from 0, the kth level of the above tree involves 2k invocatons of merge with sublists of size roughly n/2k, where n is the size of the original input list. Therefore the total number of coparison at each level of the tree is 2^k*n/n^k=n\n",
    "thus if the height of the tree is h, the total number of comparisons is n*h. since there are n sublists of size 1 at the lowest level, it folows that 2^(h-1)=n \n",
    "h=logn+1 thus the time complexity of merge sort algorithms is O(nlogN)\n"
   ]
  },
  {
   "cell_type": "code",
   "execution_count": null,
   "id": "44b62d58",
   "metadata": {},
   "outputs": [],
   "source": [
    "space complexity\n",
    "to find the space complexity of merge sort, it helps to recall that a new list with eqqual to the sum of the sizes of the two lists is created in each invocation of merge."
   ]
  },
  {
   "cell_type": "raw",
   "id": "bf115cd8",
   "metadata": {},
   "source": [
    "applying the right technique to overcome the inefficiency.\n",
    "the fact that merge sort requires allocating aditinal space as large as the input itself, makes it somewhat slow in real life practise because memory allocation is far more expensive than comparisons or swapping."
   ]
  },
  {
   "cell_type": "code",
   "execution_count": null,
   "id": "4bcdf741",
   "metadata": {},
   "outputs": [],
   "source": [
    "quicksort"
   ]
  },
  {
   "cell_type": "code",
   "execution_count": null,
   "id": "ac1efdd9",
   "metadata": {},
   "outputs": [],
   "source": [
    "to overcome the space inefficiencies of merge sort, we'll study another divide and conquer based sorting algorithm called quicksort.\n",
    "it works as bellow."
   ]
  },
  {
   "cell_type": "markdown",
   "id": "25b3c0c7",
   "metadata": {},
   "source": [
    "1.if the lis is empty or has one element, its already sorted. return it.\n",
    "2. pick a random element from the list. this element is called a pivot.\n",
    "3. reorder the list so that all the elements with values less than or wqual to the pivot comes before the pivot, while elements with values greater than the pivot comes afer it. this operation is called partitioning. \n",
    "4. the pivot elements divide the array into two parts which can bbe sorted independently by making a recursive call to quicksort."
   ]
  },
  {
   "cell_type": "code",
   "execution_count": null,
   "id": "346aa3c6",
   "metadata": {},
   "outputs": [],
   "source": [
    "the key observation here is that after the partition, the pivot element is at its right palce in the sorted array. and the two parts of the array can be sorted independently in place. and return the position of the pivot element. \n"
   ]
  },
  {
   "cell_type": "code",
   "execution_count": null,
   "id": "436ad5f6",
   "metadata": {},
   "outputs": [],
   "source": [
    "def quicksort(nums,start=0,end=None):\n",
    "    if end is None:\n",
    "        nums=list(nums)\n",
    "        end=len(nums)-1\n",
    "    if start<end:\n",
    "        pivot=partition(nums,start,end)\n",
    "        quicksort(nums,start,pivot-1)\n",
    "        quicksort(nums,pivot+1,end)\n",
    "    return nums"
   ]
  },
  {
   "cell_type": "code",
   "execution_count": null,
   "id": "65269788",
   "metadata": {},
   "outputs": [],
   "source": [
    "def partition(nums,start=0,end=None):\n",
    "    if end is None:\n",
    "        end=len(nums)-1\n",
    "    #initialize right and left pointers\n",
    "    l,r=start,end-1\n",
    "    #iterate while they are apart\n",
    "    while r>l:\n",
    "        #increament the left pointer if number is less or equal to pivot\n",
    "        if nums[l]<=nums[end]:\n",
    "            l+=1\n",
    "        #decrement the right pointer if number is greater than pivot\n",
    "        elif nums[r]>nums[end]:\n",
    "            r-=1\n",
    "        #two out of place elements swap them\n",
    "        else:\n",
    "            nums[l],nums[r]=nums[r],nums[l]\n",
    "    if nums[l]>nums[end]:\n",
    "        nums[l],nums[end]=nums[end],nums[l]\n",
    "        return l\n",
    "    else:\n",
    "        return end\n",
    "        \n",
    "        "
   ]
  },
  {
   "cell_type": "markdown",
   "id": "1794bd3d",
   "metadata": {},
   "source": [
    "you are working on a new feature on jovian called 'top notebooks of the week'. Write a function to sorrt a list of noteboooks in decreasing order of likes. Keep in mind that up to millions of notebooks can be created every week. so your function needsto be efficient as possible.\n",
    " first we need to sort objects, not just numbers.Also we want them to sort them in descending order of likes."
   ]
  },
  {
   "cell_type": "code",
   "execution_count": 23,
   "id": "decc1f1d",
   "metadata": {},
   "outputs": [],
   "source": [
    "class Notebook:\n",
    "    def __init__(self, title,username,likes):\n",
    "        self.title,self.username,self.likes=title,username,likes\n",
    "    def __repr__(self):\n",
    "        return 'Notebook\"{}/{}\",{} likes'.format(self.username,self.title,self.likes)\n",
    "        "
   ]
  },
  {
   "cell_type": "code",
   "execution_count": 24,
   "id": "d0646f4b",
   "metadata": {},
   "outputs": [],
   "source": [
    "#lets create some sample notebooks\n",
    "nb0=Notebook('pytorch_basics','alan',373)\n",
    "nb1=Notebook('linear_regression','aaron',393)\n",
    "nb2=Notebook('logistic_regression','eric',353)\n",
    "nb3=Notebook('feedforward','eunice',353)\n",
    "nb4=Notebook('cifar','jimmy',33)\n",
    "nb5=Notebook('numpy','felix',3)\n",
    "nb6=Notebook('python fundamentals','renee',80)\n",
    "nb7=Notebook('python_numpy','ogwp',92)\n",
    "nb8=Notebook('pygame','mj',13)"
   ]
  },
  {
   "cell_type": "code",
   "execution_count": 25,
   "id": "ea1dfa72",
   "metadata": {},
   "outputs": [],
   "source": [
    "notebooks=[nb0,nb1,nb2,nb3,nb4,nb5,nb6,nb7,nb8]"
   ]
  },
  {
   "cell_type": "code",
   "execution_count": 26,
   "id": "56ce137c",
   "metadata": {
    "scrolled": true
   },
   "outputs": [
    {
     "data": {
      "text/plain": [
       "[Notebook\"alan/pytorch_basics\",373 likes,\n",
       " Notebook\"aaron/linear_regression\",393 likes,\n",
       " Notebook\"eric/logistic_regression\",353 likes,\n",
       " Notebook\"eunice/feedforward\",353 likes,\n",
       " Notebook\"jimmy/cifar\",33 likes,\n",
       " Notebook\"felix/numpy\",3 likes,\n",
       " Notebook\"renee/python fundamentals\",80 likes,\n",
       " Notebook\"ogwp/python_numpy\",92 likes,\n",
       " Notebook\"mj/pygame\",13 likes]"
      ]
     },
     "execution_count": 26,
     "metadata": {},
     "output_type": "execute_result"
    }
   ],
   "source": [
    "notebooks"
   ]
  },
  {
   "cell_type": "code",
   "execution_count": 27,
   "id": "36d2032c",
   "metadata": {},
   "outputs": [],
   "source": [
    "def compare_likes(nb1,nb2):\n",
    "    if nb1.likes>nb2.likes:\n",
    "        return 'lesser'\n",
    "    elif nb1.likes==nb2.likes:\n",
    "        return 'equal'\n",
    "    elif nb1.likes<nb2.likes:\n",
    "        return 'greater'"
   ]
  }
 ],
 "metadata": {
  "kernelspec": {
   "display_name": "Python 3 (ipykernel)",
   "language": "python",
   "name": "python3"
  },
  "language_info": {
   "codemirror_mode": {
    "name": "ipython",
    "version": 3
   },
   "file_extension": ".py",
   "mimetype": "text/x-python",
   "name": "python",
   "nbconvert_exporter": "python",
   "pygments_lexer": "ipython3",
   "version": "3.9.7"
  }
 },
 "nbformat": 4,
 "nbformat_minor": 5
}
